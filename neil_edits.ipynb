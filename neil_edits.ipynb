{
 "cells": [
  {
   "cell_type": "code",
   "execution_count": null,
   "metadata": {},
   "outputs": [],
   "source": [
    "import pandas as pd\n",
    "import numpy as np"
   ]
  },
  {
   "cell_type": "code",
   "execution_count": null,
   "metadata": {},
   "outputs": [],
   "source": [
    "grammyAwards = pd.read_csv(\"data/grammySongs_1999-2019.csv\")\n",
    "grammyAwards = grammyAwards[['Name', 'Artist', 'GrammyAward']]\n",
    "# grammyAwards = grammyAwards[['Name', 'Artist', 'GrammyAward']]\n",
    "grammyAwards = grammyAwards.groupby(['Name', 'Artist']).count().reset_index()\n",
    "# namesOnly = grammyAwards.groupby(['Name', 'Artist'])\n",
    "# grammyAwards = namesOnly['Genre'].agg(lambda x: \"\".join(x)).reset_index(name=\"Genre\")\n",
    "grammyAwards.head()"
   ]
  },
  {
   "cell_type": "code",
   "execution_count": null,
   "metadata": {},
   "outputs": [],
   "source": []
  }
 ],
 "metadata": {
  "kernelspec": {
   "display_name": "Python 3",
   "language": "python",
   "name": "python3"
  },
  "language_info": {
   "codemirror_mode": {
    "name": "ipython",
    "version": 3
   },
   "file_extension": ".py",
   "mimetype": "text/x-python",
   "name": "python",
   "nbconvert_exporter": "python",
   "pygments_lexer": "ipython3",
   "version": "3.8.5"
  }
 },
 "nbformat": 4,
 "nbformat_minor": 4
}
