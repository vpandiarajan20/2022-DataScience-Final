{
 "cells": [
  {
   "cell_type": "markdown",
   "metadata": {},
   "source": [
    "Preparing Data"
   ]
  },
  {
   "cell_type": "code",
   "execution_count": null,
   "metadata": {},
   "outputs": [],
   "source": [
    "import pandas as pd\n",
    "import numpy as np"
   ]
  },
  {
   "cell_type": "code",
   "execution_count": null,
   "metadata": {},
   "outputs": [],
   "source": [
    "grammyAwards = pd.read_csv(\"data/grammySongs_1999-2019.csv\")\n",
    "# grammyAwards = grammyAwards[['Name', 'Artist', 'Genre', 'GrammyAward']]\n",
    "grammyAwards = grammyAwards[['Name', 'Artist', 'GrammyAward']]\n",
    "grammyAwards = grammyAwards.groupby(['Name', 'Artist']).count().reset_index()\n",
    "grammyAwards = grammyAwards.applymap(lambda s: s.upper() if type(s) == str else s)\n",
    "print(grammyAwards.shape)\n",
    "grammyAwards.head(5)"
   ]
  },
  {
   "cell_type": "code",
   "execution_count": null,
   "metadata": {},
   "outputs": [],
   "source": [
    "billboardHot100 = pd.read_csv('data/billboardHot100_1999-2019.csv')\n",
    "billboardHot100 = billboardHot100[['Artists', 'Name', 'Peak.position', 'Weeks.on.chart']]\n",
    "billboardHot100['Weeks.on.chart'] = billboardHot100['Weeks.on.chart'].fillna(1)\n",
    "billboardHot100['Peak.position'] = billboardHot100['Peak.position'].fillna(100)\n",
    "# billboardHot100.groupby(by=['Artist', 'Name']).min('Peak.position').max('Weeks.on.chart')\n",
    "billboardHot100 = billboardHot100.groupby(['Artists', 'Name']).agg({'Peak.position':'min', 'Weeks.on.chart':'max'})[['Peak.position','Weeks.on.chart']].reset_index()\n",
    "billboardHot100 = billboardHot100.applymap(lambda s: s.upper() if type(s) == str else s)\n",
    "billboardHot100.head(5)"
   ]
  }
 ],
 "metadata": {
  "kernelspec": {
   "display_name": "Python 3 (ipykernel)",
   "language": "python",
   "name": "python3"
  },
  "language_info": {
   "codemirror_mode": {
    "name": "ipython",
    "version": 3
   },
   "file_extension": ".py",
   "mimetype": "text/x-python",
   "name": "python",
   "nbconvert_exporter": "python",
   "pygments_lexer": "ipython3",
   "version": "3.7.0"
  }
 },
 "nbformat": 4,
 "nbformat_minor": 2
}
