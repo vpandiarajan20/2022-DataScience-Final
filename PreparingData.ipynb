{
 "cells": [
  {
   "cell_type": "markdown",
   "metadata": {},
   "source": [
    "Preparing Data"
   ]
  },
  {
   "cell_type": "markdown",
   "metadata": {},
   "source": [
    "<p> We will be combining data from three files </p>\n",
    "<ol>\n",
    "<li> We will select name, artist, genre, and number of grammy awards from grammySongs_1999-2019.csv. This information is not immediately available from the sheet, so we will group by artist and name and count the number of grammys each song has won. </li>\n",
    "<li> We will select artist, name, peak position, average position, and weeks on chart from billboardHot100_1999-2019. </li>\n",
    "<li> We will select artist, name, energy, danceability, tempo, and valence from data/songAtrributes_1999-2019.csv. </li>\n",
    "</ol>"
   ]
  },
  {
   "cell_type": "code",
   "execution_count": null,
   "metadata": {},
   "outputs": [],
   "source": [
    "import pandas as pd\n",
    "\n",
    "import numpy as np\n"
   ]
  },
  {
   "cell_type": "code",
   "execution_count": null,
   "metadata": {
    "scrolled": true
   },
   "outputs": [],
   "source": [
    "grammyAwards = pd.read_csv(\"data/grammySongs_1999-2019.csv\")\n",
    "grammyAwards = grammyAwards[['Name', 'Artist', 'GrammyAward']]\n",
    "# grammyAwards = grammyAwards[['Name', 'Artist', 'GrammyAward']]\n",
    "grammyAwards = grammyAwards.groupby(['Name', 'Artist']).count().reset_index()\n",
    "# namesOnly = grammyAwards.groupby(['Name', 'Artist'])\n",
    "# grammyAwards = namesOnly['Genre'].agg(lambda x: \"\".join(x)).reset_index(name=\"Genre\")\n",
    "grammyAwards.head()"
   ]
  },
  {
   "cell_type": "code",
   "execution_count": null,
   "metadata": {},
   "outputs": [],
   "source": [
    "billboardHot100 = pd.read_csv('data/billboardHot100_1999-2019.csv')\n",
    "billboardHot100 = billboardHot100[['Artists', 'Name', 'Genre', 'Peak.position', 'Weeks.on.chart','Weekly.rank']]\n",
    "billboardHot100['Weeks.on.chart'] = billboardHot100['Weeks.on.chart'].fillna(1)\n",
    "billboardHot100['Peak.position'] = billboardHot100['Peak.position'].fillna(100)\n",
    "billboardHot100['Weekly.rank'] = billboardHot100['Weekly.rank'].fillna(100)\n",
    "billboardHot100['Genre'] = billboardHot100['Genre'].fillna('None')\n",
    "# billboardHot100.groupby(by=['Artist', 'Name']).min('Peak.position').max('Weeks.on.chart')\n",
    "billboardHot100 = billboardHot100.groupby(['Artists', 'Name','Genre']).agg({'Peak.position':'min', 'Weeks.on.chart':'max', 'Weekly.rank':'mean'})[['Peak.position','Weeks.on.chart','Weekly.rank']].reset_index()\n",
    "billboardHot100.rename(columns = {'Weekly.rank':'Avg.rank'}, inplace = True)\n",
    "billboardHot100"
    "billboardHot100 = billboardHot100.applymap(lambda s: s.upper() if type(s) == str else s)\n",
   ]
  },
  {
   "cell_type": "code",
   "execution_count": null,
   "metadata": {},
   "outputs": [],
   "source": [
    "from sklearn.preprocessing import MultiLabelBinarizer\n",
    "\n",
    "genres_as_list = [g.split(\",\") for g in billboardHot100['Genre']]\n",
    "one_hot = MultiLabelBinarizer()\n",
    "genre_encoding = one_hot.fit_transform(genres_as_list)\n",
    "genres = one_hot.classes_\n",
    "\n",
    "genre_df = pd.DataFrame(genre_encoding, columns = genres)\n",
    "# genre_df.head()\n",
    "billboardHot100 = billboardHot100.join(genre_df)\n",
    "billboardHot100 = billboardHot100.drop(columns=['Genre'])\n",
    "billboardHot100\n",
    "# print(one_hot.classes_)\n",
    "# pd.get_dummies(billboardHot100['Genre'])\n",
    "# billboardHot100['Genre']"
   ]
  },
  {
   "cell_type": "code",
   "execution_count": null,
   "metadata": {},
   "outputs": [],
   "source": [
    "songAtrributes = pd.read_csv('data/songAttributes_1999-2019.csv')\n",
    "songAtrributes = songAtrributes[['Name', 'Energy', 'Danceability', 'Tempo', 'Valence']]"
   ]
  },
  {
   "cell_type": "code",
   "execution_count": null,
   "metadata": {},
   "outputs": [],
   "source": [
    "songAttributes2 = pd.read_csv('data/songAttributesV2.csv')\n",
    "# songAttributes.columns\n",
    "songAttributes2 = songAttributes2[['song_title', 'artist', 'energy', 'danceability', 'tempo', 'valence']]\n",
    "songAttributes2.rename(\n",
    "    columns={\"song_title\":\"Name\", \"artist\":\"Artist\"}, inplace=True)\n",
    "songAttributes2 = songAttributes2.applymap(lambda s: s.upper() if type(s) == str else s)\n",
    "songAttributes2.head(5)"
   ]
  },
  {
   "cell_type": "code",
   "execution_count": null,
   "metadata": {},
   "outputs": [],
   "source": [
    "# a = np.array([])\n",
    "# a = np.append(a, grammyAwards.Artist.unique())\n",
    "grammyAwards.Artist.unique()\n",
    "# a = np.append(a, billboardHot100.Artists.unique())\n",
    "# np.savetxt('myfile.csv', a, delimiter=',', fmt=\"%s\")\n",
    "# len(a)\n",
    "# grammyAwards.Artist.unique()"
   ]
  },
  {
   "cell_type": "code",
   "execution_count": null,
   "metadata": {},
   "outputs": [],
   "source": []
  }
 ],
 "metadata": {
  "kernelspec": {
   "display_name": "Python 3",
   "language": "python",
   "name": "python3"
  },
  "language_info": {
   "codemirror_mode": {
    "name": "ipython",
    "version": 3
   },
   "file_extension": ".py",
   "mimetype": "text/x-python",
   "name": "python",
   "nbconvert_exporter": "python",
   "pygments_lexer": "ipython3",
   "version": "3.8.5"
  }
 },
 "nbformat": 4,
 "nbformat_minor": 2
}
