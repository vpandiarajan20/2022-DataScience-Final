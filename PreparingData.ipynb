{
 "cells": [
  {
   "cell_type": "markdown",
   "metadata": {},
   "source": [
    "Preparing Data"
   ]
  },
  {
   "cell_type": "markdown",
   "metadata": {},
   "source": [
    "<p> We will be combining data from three files </p>\n",
    "<ol>\n",
    "<li> We will select name, artist, genre, and number of grammy awards from grammySongs_1999-2019.csv. This information is not immediately available from the sheet, so we will group by artist and name and count the number of grammys each song has won. </li>\n",
    "<li> We will select artist, name, peak position, average position, and weeks on chart from billboardHot100_1999-2019. </li>\n",
    "<li> We will select artist, name, energy, danceability, tempo, and valence from data/songAtrributes_1999-2019.csv. </li>\n",
    "</ol>"
   ]
  },
  {
   "cell_type": "code",
   "execution_count": null,
   "metadata": {},
   "outputs": [],
   "source": [
    "import pandas as pd\n",
    "import numpy as np"
   ]
  },
  {
   "cell_type": "code",
   "execution_count": null,
   "metadata": {},
   "outputs": [],
   "source": [
    "grammyAwards = pd.read_csv(\"data/grammySongs_1999-2019.csv\")\n",
    "# grammyAwards = grammyAwards[['Name', 'Artist', 'Genre', 'GrammyAward']]\n",
    "grammyAwards = grammyAwards[['Name', 'Artist', 'GrammyAward']]\n",
    "grammyAwards = grammyAwards.groupby(['Name', 'Artist']).count().reset_index()\n",
    "grammyAwards = grammyAwards.applymap(lambda s: s.upper() if type(s) == str else s)\n",
    "print(grammyAwards.shape)\n",
    "grammyAwards.head(5)"
   ]
  },
  {
   "cell_type": "code",
   "execution_count": null,
   "metadata": {},
   "outputs": [],
   "source": [
    "billboardHot100 = pd.read_csv('data/billboardHot100_1999-2019.csv')\n",
    "billboardHot100 = billboardHot100[['Artists', 'Name', 'Peak.position', 'Weeks.on.chart']]\n",
    "billboardHot100['Weeks.on.chart'] = billboardHot100['Weeks.on.chart'].fillna(1)\n",
    "billboardHot100['Peak.position'] = billboardHot100['Peak.position'].fillna(100)\n",
    "# billboardHot100.groupby(by=['Artist', 'Name']).min('Peak.position').max('Weeks.on.chart')\n",
    "billboardHot100 = billboardHot100.groupby(['Artists', 'Name']).agg({'Peak.position':'min', 'Weeks.on.chart':'max'})[['Peak.position','Weeks.on.chart']].reset_index()\n",
    "billboardHot100 = billboardHot100.applymap(lambda s: s.upper() if type(s) == str else s)\n",
    "billboardHot100.head(5)"
   ]
  },
  {
   "cell_type": "code",
   "execution_count": null,
   "metadata": {},
   "outputs": [],
   "source": [
    "songAttributes = pd.read_csv('data/songAttributes_1999-2019.csv')\n",
    "songAttributes = songAttributes[['Name', 'Artist', 'Energy', 'Danceability', 'Tempo', 'Valence']]\n",
    "songAttributes = songAttributes.applymap(lambda s: s.upper() if type(s) == str else s)\n",
    "songAttributes.head(5)"
   ]
  },
  {
   "cell_type": "code",
   "execution_count": null,
   "metadata": {},
   "outputs": [],
   "source": [
    "songAttributes2 = pd.read_csv('data/songAttributesV2.csv')\n",
    "# songAttributes.columns\n",
    "songAttributes2 = songAttributes2[['song_title', 'artist', 'energy', 'danceability', 'tempo', 'valence']]\n",
    "songAttributes2.rename(\n",
    "    columns={\"song_title\":\"Name\", \"artist\":\"Artist\"}, inplace=True)\n",
    "songAttributes2 = songAttributes2.applymap(lambda s: s.upper() if type(s) == str else s)\n",
    "songAttributes2.head(5)"
   ]
  },
  {
   "cell_type": "code",
   "execution_count": null,
   "metadata": {},
   "outputs": [],
   "source": [
    "# grammyAwards.set_index(['Name', 'Artist']).join(songAttributes.set_index(['Name', 'Artist']), how='left').reset_index()\n",
    "# inProgress = grammyAwards.merge(songAttributes, on=['Name', 'Artist'], how='left').drop_duplicates(subset=['Name'], keep='first')\n",
    "inProgress = grammyAwards.merge(songAttributes, on=['Name', 'Artist'], how='left').drop_duplicates(subset=['Name', 'Artist'], keep='first')\n",
    "# inProgress\n",
    "inProgress.merge(songAttributes2, on=['Name', 'Artist'], how='left')\n",
    "# grammyAwards.drop_duplicates(subset=['Name'], keep='first')"
   ]
  },
  {
   "cell_type": "code",
   "execution_count": null,
   "metadata": {},
   "outputs": [],
   "source": [
    "# a = np.array([])\n",
    "# a = np.append(a, grammyAwards.Artist.unique())\n",
    "grammyAwards.Artist.unique()\n",
    "# a = np.append(a, billboardHot100.Artists.unique())\n",
    "# np.savetxt('myfile.csv', a, delimiter=',', fmt=\"%s\")\n",
    "# len(a)\n",
    "# grammyAwards.Artist.unique()"
   ]
  }
 ],
 "metadata": {
  "kernelspec": {
   "display_name": "Python 3 (ipykernel)",
   "language": "python",
   "name": "python3"
  },
  "language_info": {
   "codemirror_mode": {
    "name": "ipython",
    "version": 3
   },
   "file_extension": ".py",
   "mimetype": "text/x-python",
   "name": "python",
   "nbconvert_exporter": "python",
   "pygments_lexer": "ipython3",
   "version": "3.7.0"
  }
 },
 "nbformat": 4,
 "nbformat_minor": 2
}
