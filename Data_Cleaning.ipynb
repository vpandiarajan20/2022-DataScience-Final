{
 "cells": [
  {
   "cell_type": "code",
   "execution_count": null,
   "metadata": {},
   "outputs": [],
   "source": [
    "import pandas as pd\n",
    "import numpy as np\n",
    "from sklearn.preprocessing import MultiLabelBinarizer\n",
    "%pip install spotipy\n",
    "import spotipy\n",
    "import spotipy.oauth2 as oauth2\n",
    "from spotipy.oauth2 import SpotifyOAuth\n",
    "from spotipy.oauth2 import SpotifyClientCredentials\n",
    "import time"
   ]
  },
  {
   "cell_type": "code",
   "execution_count": null,
   "metadata": {
    "scrolled": false
   },
   "outputs": [],
   "source": [
    "grammyAwards = pd.read_csv(\"data/grammySongs_1999-2019.csv\")\n",
    "grammyAwards = grammyAwards[['Name', 'Artist', 'GrammyAward', 'GrammyYear', 'Genre']]\n",
    "grammyAwards = grammyAwards.groupby(['Name', 'Artist', 'GrammyYear', 'Genre']).count().reset_index()\n",
    "grammyAwards = grammyAwards.applymap(lambda s: s.upper() if type(s) == str else s)\n",
    "\n",
    "# grammyAwards.head(50)"
   ]
  },
  {
   "cell_type": "code",
   "execution_count": null,
   "metadata": {},
   "outputs": [],
   "source": [
    "grammyAwards.head()"
   ]
  },
  {
   "cell_type": "code",
   "execution_count": null,
   "metadata": {},
   "outputs": [],
   "source": [
    "import json\n",
    "auth_manager = SpotifyClientCredentials(client_id = '7606efb22a6848bdbf48ecd67484b9d5', \n",
    "                                        client_secret = '5febce52b67b499db9f7295c5f6839ec')\n",
    "sp = spotipy.Spotify(auth_manager=auth_manager)\n",
    "song = sp.search(q=f\"track:CITY OF BLINDING LIGHTS, artist:U2\", type=\"track\", limit=2)\n",
    "print(song['tracks']['items'][0]['album']['release_date'])"
   ]
  },
  {
   "cell_type": "code",
   "execution_count": null,
   "metadata": {},
   "outputs": [],
   "source": [
    "for index, row in grammyAwards.iterrows():\n",
    "    artistName = row['Artist']\n",
    "    trackName = row['Name']\n",
    "    year = row['GrammyYear']\n",
    "    try: \n",
    "        artistList = artistName.split(\",\")\n",
    "        artistName = artistList[0]\n",
    "        artistName = artistName.split(\"&\")[0]\n",
    "        artistName = artistName.split(\":\")[0]\n",
    "        artistName = artistName.split(\";\")[0]\n",
    "        artistName = artistName.split(\":\")[0]\n",
    "        artistName = artistName.replace(\"-\", \" \")\n",
    "        if 'FEATURING' in artistName:\n",
    "            grammyAwards.at[index, 'Artist'] = artistName.split('FEATURING')[0]\n",
    "            continue\n",
    "        if 'SOLOIST' in row['Artist']:\n",
    "            grammyAwards.at[index, 'Artist'] = artistName.split(\",\")[0]\n",
    "            continue\n",
    "        if (artistName != row['Artist']):\n",
    "            song = sp.search(q=f\"track:{trackName}, year:{year}\", type=\"track\", limit=2)\n",
    "            if len(song['tracks']['items']) == 0:\n",
    "                song = sp.search(q=f\"track:{trackName}\", type=\"track\", limit=2)\n",
    "            artist = song['tracks']['items'][0]['artists'][0]['name'].upper()\n",
    "    #         artistID = song['tracks']['items'][0]['artists'][0]['uri']\n",
    "    #         artistGenres = sp.artist(artistID)['genres']\n",
    "    #         if len(artistGenres) == 0:\n",
    "    #             print(trackName, artistID)\n",
    "    #         print(artistGenres)\n",
    "            grammyAwards.at[index, 'Artist'] = artist\n",
    "    except:\n",
    "        print(\"track not found\", trackName)\n"
   ]
  },
  {
   "cell_type": "code",
   "execution_count": null,
   "metadata": {},
   "outputs": [],
   "source": [
    "grammyAwards.head(50)\n",
    "grammys_with_genre = grammyAwards"
   ]
  },
  {
   "cell_type": "code",
   "execution_count": null,
   "metadata": {},
   "outputs": [],
   "source": [
    "grammyAwards = grammyAwards[['Name', 'Artist', 'GrammyAward', 'GrammyYear']]\n",
    "grammyAwards = grammyAwards.groupby(['Name', 'Artist', 'GrammyYear']).count().reset_index()\n",
    "grammyAwards['GrammyAward']"
   ]
  },
  {
   "cell_type": "code",
   "execution_count": null,
   "metadata": {},
   "outputs": [],
   "source": [
    "grammys_with_genre"
   ]
  },
  {
   "cell_type": "code",
   "execution_count": null,
   "metadata": {},
   "outputs": [],
   "source": [
    "# RUN THIS\n",
    "grammyAwards['Artist'] = grammyAwards['Artist'].apply(lambda s: s.replace(\"-\", \" \"))\n",
    "grammyAwards = grammyAwards.drop_duplicates(subset=['Name', 'Artist'], keep='last').reset_index(drop=True)\n",
    "# grammyAwards.head(50)"
   ]
  },
  {
   "cell_type": "code",
   "execution_count": null,
   "metadata": {},
   "outputs": [],
   "source": [
    "grammyAwards"
   ]
  },
  {
   "cell_type": "code",
   "execution_count": null,
   "metadata": {},
   "outputs": [],
   "source": [
    "# RUN THIS\n",
    "# for each song, get the release date, parse to datetime, get the year, set the cell to the year. \n",
    "for index, row in grammyAwards.iterrows():\n",
    "    artistName = row['Artist']\n",
    "    trackName = row['Name']\n",
    "    year = row['Date']\n",
    "    try: \n",
    "        song = sp.search(q=f\"track:{trackName}, year:{year}\", type=\"track\", limit=2)\n",
    "        if len(song['tracks']['items']) == 0:\n",
    "            song = sp.search(q=f\"track:{trackName}\", type=\"track\", limit=2)\n",
    "        release_date = song['tracks']['items'][0]['album']['release_date']\n",
    "        release_year = pd.to_datetime(release_date).year\n",
    "        grammyAwards.at[index, 'Date'] = release_year\n",
    "    except:\n",
    "        print(\"track not found\", trackName)\n",
    "grammyAwards\n",
    "# song['tracks']['items'][0]['album']['release_date']"
   ]
  },
  {
   "cell_type": "code",
   "execution_count": null,
   "metadata": {},
   "outputs": [],
   "source": [
    "billboardHot100 = pd.read_csv('data/billboardHot100_1999-2019.csv')\n",
    "billboardHot100 = billboardHot100[['Artists', 'Name', 'Genre', 'Peak.position', 'Weeks.on.chart','Weekly.rank','Date']]\n",
    "billboardHot100['Weeks.on.chart'] = billboardHot100['Weeks.on.chart'].fillna(1)\n",
    "billboardHot100['Peak.position'] = billboardHot100['Peak.position'].fillna(100)\n",
    "billboardHot100['Weekly.rank'] = billboardHot100['Weekly.rank'].fillna(100)\n",
    "billboardHot100['Genre'] = billboardHot100['Genre'].fillna('None')\n",
    "billboardHot100['Date'] = billboardHot100['Date'].fillna('1999')\n",
    "billboardHot100 = billboardHot100.groupby(['Artists', 'Name','Genre']).agg({'Peak.position':'min', 'Weeks.on.chart':'max', 'Weekly.rank':'mean', 'Date':'max'})[['Peak.position','Weeks.on.chart','Weekly.rank', 'Date']].reset_index()\n",
    "billboardHot100.rename(columns = {'Weekly.rank':'Avg.rank'}, inplace = True)\n",
    "billboardHot100.rename(\n",
    "    columns={\"Artists\":\"Artist\"}, inplace=True)\n",
    "billboardHot100['Date'] = pd.to_datetime(billboardHot100['Date'])\n",
    "billboardHot100['Date'] = billboardHot100['Date'].apply(lambda x : x.year)\n",
    "billboardHot100 = billboardHot100.applymap(lambda s: s.upper() if type(s) == str else s)\n",
    "billboardHot100.head()"
   ]
  },
  {
   "cell_type": "code",
   "execution_count": null,
   "metadata": {
    "scrolled": false
   },
   "outputs": [],
   "source": [
    "for index, row in billboardHot100.iterrows():\n",
    "    artistName = row['Artist']\n",
    "    trackName = row['Name']\n",
    "    year = row['Date']\n",
    "    try: \n",
    "        song = sp.search(q=f\"track:{trackName}, year:{year}\", type=\"track\", limit=2)\n",
    "        if len(song['tracks']['items']) == 0:\n",
    "            song = sp.search(q=f\"track:{trackName}\", type=\"track\", limit=2)\n",
    "#         artist = song['tracks']['items'][0]['artists'][0]['name']\n",
    "#         billboardHot100.at[index, 'Artist'] = artist\n",
    "        track_id = song['tracks']['items'][0]['uri']\n",
    "        song_info = sp.audio_features(track_id)           \n",
    "        billboardHot100.at[index, 'Energy'] = song_info[0].get('energy')\n",
    "        billboardHot100.at[index, 'Danceability'] = song_info[0].get('danceability')\n",
    "        billboardHot100.at[index, 'Tempo'] = song_info[0].get('tempo')\n",
    "        billboardHot100.at[index, 'Valence'] = song_info[0].get('valence')\n",
    "    except:\n",
    "        print(\"track not found\", trackName)\n",
    "    if (index % 500 == 0):\n",
    "        print(index)\n",
    "billboardHot100.to_csv(\"billboard_features.csv\")"
   ]
  },
  {
   "cell_type": "code",
   "execution_count": null,
   "metadata": {},
   "outputs": [],
   "source": [
    "# billboardHot100.head(50)\n",
    "print(grammyAwards[grammyAwards['Artist'] == 'BRUNO MARS'])"
   ]
  },
  {
   "cell_type": "code",
   "execution_count": null,
   "metadata": {},
   "outputs": [],
   "source": [
    "billboardHot100"
   ]
  },
  {
   "cell_type": "code",
   "execution_count": null,
   "metadata": {},
   "outputs": [],
   "source": [
    "print(billboardHot100[billboardHot100['Artist'] == ''])"
   ]
  },
  {
   "cell_type": "code",
   "execution_count": null,
   "metadata": {},
   "outputs": [],
   "source": [
    "grammyAwards"
   ]
  },
  {
   "cell_type": "code",
   "execution_count": null,
   "metadata": {},
   "outputs": [],
   "source": [
    "# grammyAwards[]\n",
    "grammyAwards.rename(columns={\"GrammyYear\":\"Date\"}, inplace=True)\n",
    "combined_df = grammyAwards.merge(billboardHot100, on=['Name', 'Date'], how='left')\n",
    "combined_df.head(50)"
   ]
  },
  {
   "cell_type": "code",
   "execution_count": null,
   "metadata": {},
   "outputs": [],
   "source": []
  },
  {
   "cell_type": "code",
   "execution_count": null,
   "metadata": {},
   "outputs": [],
   "source": []
  },
  {
   "cell_type": "code",
   "execution_count": null,
   "metadata": {},
   "outputs": [],
   "source": [
    "%pip install python-levenshtein"
   ]
  },
  {
   "cell_type": "code",
   "execution_count": null,
   "metadata": {},
   "outputs": [],
   "source": [
    "'''\n",
    "for each one, search in the billboard for the artistName, true if satisfies fuzzy and \n",
    "'''\n",
    "from fuzzywuzzy import fuzz\n",
    "from fuzzywuzzy import process\n",
    "\n",
    "for index, row in grammyAwards.iterrows():\n",
    "    if index % 50 == 0:\n",
    "        print(index)\n",
    "    artist1 = row['Artist']\n",
    "    track = row['Name']\n",
    "    found = False\n",
    "    for id2, r2 in billboardHot100.iterrows():\n",
    "        artist2 = r2['Artist']\n",
    "        t2 = r2['Name']\n",
    "        artistRatio = fuzz.partial_ratio(artist1, artist2)\n",
    "        trackRatio = fuzz.partial_ratio(track, t2)\n",
    "        if trackRatio > 90 and artistRatio > 90:\n",
    "            print(artist1, artist2)\n",
    "            print(track, t2)\n",
    "            found = True\n",
    "            grammyAwards.at[index, 'Energy'] = r2['Energy']\n",
    "            grammyAwards.at[index, 'Danceability'] = r2['Danceability']\n",
    "            grammyAwards.at[index, 'Tempo'] = r2['Tempo']\n",
    "            grammyAwards.at[index, 'Valence'] = r2['Valence']\n",
    "            grammyAwards.at[index, 'Peak.position'] = r2['Peak.position']\n",
    "            grammyAwards.at[index, 'Weeks.on.chart'] = r2['Weeks.on.chart']\n",
    "            grammyAwards.at[index, 'Avg.rank'] = r2['Avg.rank']\n",
    "            break\n",
    "    if not found:\n",
    "        grammyAwards.at[index, 'Energy'] = -1\n",
    "        grammyAwards.at[index, 'Danceability'] = -1\n",
    "        grammyAwards.at[index, 'Tempo'] = -1\n",
    "        grammyAwards.at[index, 'Valence'] = -1\n",
    "        grammyAwards.at[index, 'Peak.position'] = -1\n",
    "        grammyAwards.at[index, 'Weeks.on.chart'] = -1\n",
    "        grammyAwards.at[index, 'Avg.rank'] = -1\n",
    "        print('no match in top 100', track, artist1)\n",
    "grammyAwards.head(10)\n",
    "#Peak.position\tWeeks.on.chart\tAvg.rank"
   ]
  },
  {
   "cell_type": "code",
   "execution_count": null,
   "metadata": {},
   "outputs": [],
   "source": [
    "grammyAwards.to_csv(\"grammy_award_data.csv\")"
   ]
  },
  {
   "cell_type": "code",
   "execution_count": null,
   "metadata": {},
   "outputs": [],
   "source": [
    "bruno_only = billboardHot100[billboardHot100['Artist'] == 'BRUNO MARS']\n",
    "# print(bruno_only)\n",
    "for index, row in bruno_only.iterrows():\n",
    "    artistName = row['Artist']\n",
    "    trackName = row['Name']\n",
    "    year = row['Date']\n",
    "    try: \n",
    "        song = sp.search(q=f\"track:{trackName}, year:{year}\", type=\"track\", limit=2)\n",
    "        \n",
    "        if len(song['tracks']['items']) == 0:\n",
    "            song = sp.search(q=f\"track:{trackName}\", type=\"track\", limit=2)\n",
    "            \n",
    "#         artist = song['tracks']['items'][0]['artists'][0]['name']\n",
    "#         bruno_only.at[index, 'Artist'] = artist\n",
    "        track_id = song['tracks']['items'][0]['uri']\n",
    "        song_info = sp.audio_features(track_id)           \n",
    "        bruno_only.at[index, 'Energy'] = song_info[0].get('energy')\n",
    "        bruno_only.at[index, 'Danceability'] = song_info[0].get('danceability')\n",
    "        bruno_only.at[index, 'Tempo'] = song_info[0].get('tempo')\n",
    "        bruno_only.at[index, 'Valence'] = song_info[0].get('valence')\n",
    "    except:\n",
    "        print(\"track not found\", trackName)\n",
    "    if (index % 500 == 0):\n",
    "        print(index)"
   ]
  },
  {
   "cell_type": "code",
   "execution_count": null,
   "metadata": {},
   "outputs": [],
   "source": [
    "# bruno_only.head(50)"
   ]
  },
  {
   "cell_type": "code",
   "execution_count": null,
   "metadata": {},
   "outputs": [],
   "source": [
    "bruno_grammy = grammyAwards.merge(bruno_only.head(100), on=['Name', 'Artist'], how='left')\n",
    "bruno_grammy.head(50)"
   ]
  },
  {
   "cell_type": "code",
   "execution_count": null,
   "metadata": {},
   "outputs": [],
   "source": [
    "# kendrick_only = billboardHot100[billboardHot100['Artist'] == 'KENDRICK LAMAR']\n",
    "# # print(bruno_only)\n",
    "# for index, row in kendrick_only.iterrows():\n",
    "#     artistName = row['Artist']\n",
    "#     trackName = row['Name']\n",
    "#     year = row['Date']\n",
    "#     try: \n",
    "#         song = sp.search(q=f\"track:{trackName}, year:{year}\", type=\"track\", limit=2)\n",
    "        \n",
    "#         if len(song['tracks']['items']) == 0:\n",
    "#             song = sp.search(q=f\"track:{trackName}\", type=\"track\", limit=2)\n",
    "            \n",
    "# #         artist = song['tracks']['items'][0]['artists'][0]['name']\n",
    "# #         bruno_only.at[index, 'Artist'] = artist\n",
    "#         track_id = song['tracks']['items'][0]['uri']\n",
    "#         song_info = sp.audio_features(track_id)           \n",
    "#         kendrick_only.at[index, 'Energy'] = song_info[0].get('energy')\n",
    "#         kendrick_only.at[index, 'Danceability'] = song_info[0].get('danceability')\n",
    "#         kendrick_only.at[index, 'Tempo'] = song_info[0].get('tempo')\n",
    "#         kendrick_only.at[index, 'Valence'] = song_info[0].get('valence')\n",
    "#     except:\n",
    "#         print(\"track not found\", trackName)\n",
    "#     if (index % 500 == 0):\n",
    "#         print(index)"
   ]
  },
  {
   "cell_type": "code",
   "execution_count": null,
   "metadata": {},
   "outputs": [],
   "source": [
    "kendrick_grammy = grammyAwards.merge(kendrick_only.head(100), on=['Name', 'Artist'], how='left')\n",
    "# kendrick_grammy.head(50)"
   ]
  },
  {
   "cell_type": "code",
   "execution_count": null,
   "metadata": {},
   "outputs": [],
   "source": [
    "from sklearn.preprocessing import MultiLabelBinarizer\n",
    "\n",
    "genres_as_list = [g.split(\",\") for g in billboardHot100['Genre']]\n",
    "grammy_genres\n",
    "one_hot = MultiLabelBinarizer()\n",
    "genre_encoding = one_hot.fit_transform(genres_as_list)\n",
    "genres = one_hot.classes_\n",
    "\n",
    "genre_df = pd.DataFrame(genre_encoding, columns = genres)\n",
    "# genre_df.head()\n",
    "billboardHot100 = billboardHot100.join(genre_df)\n",
    "billboardHot100 = billboardHot100.drop(columns=['Genre'])\n",
    "billboardHot100"
   ]
  },
  {
   "cell_type": "code",
   "execution_count": null,
   "metadata": {},
   "outputs": [],
   "source": [
    "import matplotlib.pyplot as plt\n",
    "# print(genres)\n",
    "genre_count = []\n",
    "genre_dict= {}\n",
    "for genre in genres:\n",
    "    count = billboardHot100[genre].sum()\n",
    "    genre_count.append(count)\n",
    "    genre_dict[genre] = count\n",
    "# fig = plt.figure()\n",
    "print(genre_dict)\n",
    "plt.bar(genres, genre_count)\n",
    "plt.show()"
   ]
  },
  {
   "cell_type": "code",
   "execution_count": null,
   "metadata": {},
   "outputs": [],
   "source": [
    "sorted_genres = dict(sorted(genre_dict.items(), key=lambda genre:genre[1]))\n",
    "print(sorted_genres)"
   ]
  },
  {
   "cell_type": "code",
   "execution_count": null,
   "metadata": {},
   "outputs": [],
   "source": [
    "# list(sorted_genres.keys())\n",
    "popular_genres_top_50 = list(sorted_genres.keys())[-50:]"
   ]
  },
  {
   "cell_type": "code",
   "execution_count": null,
   "metadata": {},
   "outputs": [],
   "source": [
    "billboardHot100[list(billboardHot100.columns[:6]) + popular_genres_top_50]"
   ]
  },
  {
   "cell_type": "code",
   "execution_count": null,
   "metadata": {},
   "outputs": [],
   "source": []
  },
  {
   "cell_type": "code",
   "execution_count": null,
   "metadata": {},
   "outputs": [],
   "source": []
  }
 ],
 "metadata": {
  "kernelspec": {
   "display_name": "Python 3",
   "language": "python",
   "name": "python3"
  },
  "language_info": {
   "codemirror_mode": {
    "name": "ipython",
    "version": 3
   },
   "file_extension": ".py",
   "mimetype": "text/x-python",
   "name": "python",
   "nbconvert_exporter": "python",
   "pygments_lexer": "ipython3",
   "version": "3.8.5"
  }
 },
 "nbformat": 4,
 "nbformat_minor": 4
}
